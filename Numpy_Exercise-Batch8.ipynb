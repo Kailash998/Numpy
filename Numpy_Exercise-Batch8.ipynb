{
 "cells": [
  {
   "cell_type": "markdown",
   "metadata": {},
   "source": [
    "# Numpy Exercise  <img src = \"numpy1.png\">\n",
    "###### Authored by T.K.Senthil Kumar"
   ]
  },
  {
   "cell_type": "markdown",
   "metadata": {},
   "source": [
    "#### 1. Create a numpy array with the number of elements equals your age. The value of array elements is a random number between 10 to your age "
   ]
  },
  {
   "cell_type": "code",
   "execution_count": 1,
   "metadata": {},
   "outputs": [
    {
     "data": {
      "text/plain": [
       "array([10.        , 10.45454545, 10.90909091, 11.36363636, 11.81818182,\n",
       "       12.27272727, 12.72727273, 13.18181818, 13.63636364, 14.09090909,\n",
       "       14.54545455, 15.        , 15.45454545, 15.90909091, 16.36363636,\n",
       "       16.81818182, 17.27272727, 17.72727273, 18.18181818, 18.63636364,\n",
       "       19.09090909, 19.54545455, 20.        , 20.45454545, 20.90909091,\n",
       "       21.36363636, 21.81818182])"
      ]
     },
     "execution_count": 1,
     "metadata": {},
     "output_type": "execute_result"
    }
   ],
   "source": [
    "#Solution\n",
    "import numpy as np\n",
    "span=10/22\n",
    "x=np.arange(10,22,span)\n",
    "x"
   ]
  },
  {
   "cell_type": "markdown",
   "metadata": {},
   "source": [
    "#### 2. Create a numpy array between 1 to 50 with the span(space) of 2 and print the length of the array"
   ]
  },
  {
   "cell_type": "code",
   "execution_count": 2,
   "metadata": {},
   "outputs": [
    {
     "name": "stdout",
     "output_type": "stream",
     "text": [
      "[ 1  3  5  7  9 11 13 15 17 19 21 23 25 27 29 31 33 35 37 39 41 43 45 47\n",
      " 49]\n"
     ]
    },
    {
     "data": {
      "text/plain": [
       "25"
      ]
     },
     "execution_count": 2,
     "metadata": {},
     "output_type": "execute_result"
    }
   ],
   "source": [
    "# Solution\n",
    "x1=np.arange(1,50,2)\n",
    "print(x1)\n",
    "len(x1)\n"
   ]
  },
  {
   "cell_type": "markdown",
   "metadata": {},
   "source": [
    "#### 3. Create an equally spaced numpy array with 27 elements between 4 and 7 "
   ]
  },
  {
   "cell_type": "code",
   "execution_count": 3,
   "metadata": {},
   "outputs": [
    {
     "data": {
      "text/plain": [
       "array([4.        , 4.11538462, 4.23076923, 4.34615385, 4.46153846,\n",
       "       4.57692308, 4.69230769, 4.80769231, 4.92307692, 5.03846154,\n",
       "       5.15384615, 5.26923077, 5.38461538, 5.5       , 5.61538462,\n",
       "       5.73076923, 5.84615385, 5.96153846, 6.07692308, 6.19230769,\n",
       "       6.30769231, 6.42307692, 6.53846154, 6.65384615, 6.76923077,\n",
       "       6.88461538, 7.        ])"
      ]
     },
     "execution_count": 3,
     "metadata": {},
     "output_type": "execute_result"
    }
   ],
   "source": [
    "# Solution\n",
    "x2=np.linspace(4,7,27)\n",
    "x2\n",
    "\n"
   ]
  },
  {
   "cell_type": "markdown",
   "metadata": {},
   "source": [
    "#### 4. Create a matrix of size (5 x 4) with random numbers and round off the each elements by only 2 fractional points."
   ]
  },
  {
   "cell_type": "code",
   "execution_count": 4,
   "metadata": {},
   "outputs": [
    {
     "data": {
      "text/plain": [
       "array([[ 7.77, 10.97,  8.54,  8.94],\n",
       "       [ 9.96, 10.51,  7.3 ,  7.71],\n",
       "       [10.42,  8.72, 10.51,  7.77],\n",
       "       [ 8.94,  9.8 ,  9.29,  8.17],\n",
       "       [ 8.59,  8.81,  8.26,  8.62]])"
      ]
     },
     "execution_count": 4,
     "metadata": {},
     "output_type": "execute_result"
    }
   ],
   "source": [
    "# Solution\n",
    "x3=np.round((np.random.uniform(7,11,size=(5,4))),2)\n",
    "x3\n",
    "\n"
   ]
  },
  {
   "cell_type": "markdown",
   "metadata": {},
   "source": [
    "#### 5. Create a matrix of size (5x5) with random integers between 5 to 15"
   ]
  },
  {
   "cell_type": "code",
   "execution_count": 5,
   "metadata": {},
   "outputs": [
    {
     "data": {
      "text/plain": [
       "array([[10,  5, 11, 10, 12],\n",
       "       [12,  8,  9, 11, 14],\n",
       "       [ 5,  6,  9,  5, 13],\n",
       "       [ 7,  5, 10,  6,  7],\n",
       "       [13, 14, 12, 14,  5]])"
      ]
     },
     "execution_count": 5,
     "metadata": {},
     "output_type": "execute_result"
    }
   ],
   "source": [
    "# Solution\n",
    "x4=np.random.randint(5,15,(5,5))\n",
    "x4\n"
   ]
  },
  {
   "cell_type": "markdown",
   "metadata": {},
   "source": [
    "#### 6. Create the one dimensional array of zeros of random length below 20 with the data type int32"
   ]
  },
  {
   "cell_type": "code",
   "execution_count": 6,
   "metadata": {},
   "outputs": [
    {
     "name": "stdout",
     "output_type": "stream",
     "text": [
      "int32\n",
      "[0 0 0 0 0 0 0 0 0 0 0 0 0 0 0 0 0 0 0 0]\n"
     ]
    }
   ],
   "source": [
    "# Solution\n",
    "x5=np.zeros(20,int)\n",
    "print(x5.dtype)\n",
    "print(x5)\n"
   ]
  },
  {
   "cell_type": "markdown",
   "metadata": {},
   "source": [
    "#### 7. Create a two dimensional array of ones of random row and column lengths with the data type of float32 "
   ]
  },
  {
   "cell_type": "code",
   "execution_count": 7,
   "metadata": {},
   "outputs": [
    {
     "name": "stdout",
     "output_type": "stream",
     "text": [
      "float32\n",
      "[[1. 1. 1. 1. 1. 1.]\n",
      " [1. 1. 1. 1. 1. 1.]\n",
      " [1. 1. 1. 1. 1. 1.]\n",
      " [1. 1. 1. 1. 1. 1.]\n",
      " [1. 1. 1. 1. 1. 1.]]\n"
     ]
    }
   ],
   "source": [
    "# Solution\n",
    "x6=np.ones([5,6],dtype=np.float32)\n",
    "print(x6.dtype)\n",
    "print(x6)\n",
    "\n"
   ]
  },
  {
   "cell_type": "markdown",
   "metadata": {},
   "source": [
    "#### 8. Create a matrix exactly as same as shown below and print its shape, type and dtype\n",
    "<img src = \"np_mat1.png\">"
   ]
  },
  {
   "cell_type": "code",
   "execution_count": 8,
   "metadata": {},
   "outputs": [
    {
     "name": "stdout",
     "output_type": "stream",
     "text": [
      "(5, 5)\n",
      "<class 'numpy.ndarray'>\n",
      "int32\n"
     ]
    }
   ],
   "source": [
    "# Solution\n",
    "x7=np.array([[9,25,50,34,45],[3,34,34,65,2],[5,7,3,76,3],[7,8,6,54,6],[23,12,8,5,8]])\n",
    "\n",
    "print(x7.shape)\n",
    "print(type(x7))\n",
    "print(x7.dtype)\n",
    "\n"
   ]
  },
  {
   "cell_type": "markdown",
   "metadata": {},
   "source": [
    "#### 9. Access the center pixel of the matrix defined in the question no 8 ( Don't enter the row and column index explicitely)"
   ]
  },
  {
   "cell_type": "code",
   "execution_count": 9,
   "metadata": {},
   "outputs": [
    {
     "name": "stdout",
     "output_type": "stream",
     "text": [
      "5\n"
     ]
    },
    {
     "data": {
      "text/plain": [
       "3"
      ]
     },
     "execution_count": 9,
     "metadata": {},
     "output_type": "execute_result"
    }
   ],
   "source": [
    "# Solution\n",
    "x7=np.array([[9,25,50,34,45],[3,34,34,65,2],[5,7,3,76,3],[7,8,6,54,6],[23,12,8,5,8]])\n",
    "L=len(x7)\n",
    "print(L)\n",
    "row=int(L/2)\n",
    "col=row\n",
    "x7[row,col]\n"
   ]
  },
  {
   "cell_type": "markdown",
   "metadata": {},
   "source": [
    "#### 10. Print the all the elements of 3rd row of the matrix"
   ]
  },
  {
   "cell_type": "code",
   "execution_count": 10,
   "metadata": {},
   "outputs": [
    {
     "name": "stdout",
     "output_type": "stream",
     "text": [
      "[ 5  7  3 76  3]\n"
     ]
    }
   ],
   "source": [
    "# Solution\n",
    "x7=np.array([[9,25,50,34,45],[3,34,34,65,2],[5,7,3,76,3],[7,8,6,54,6],[23,12,8,5,8]])\n",
    "r3=x7[2,:]\n",
    "print(r3)\n"
   ]
  },
  {
   "cell_type": "markdown",
   "metadata": {},
   "source": [
    "#### 11. Print the all the elements of 4th columns of the matrix"
   ]
  },
  {
   "cell_type": "code",
   "execution_count": 11,
   "metadata": {},
   "outputs": [
    {
     "data": {
      "text/plain": [
       "array([45,  2,  3,  6,  8])"
      ]
     },
     "execution_count": 11,
     "metadata": {},
     "output_type": "execute_result"
    }
   ],
   "source": [
    "# Solution\n",
    "x7=np.array([[9,25,50,34,45],[3,34,34,65,2],[5,7,3,76,3],[7,8,6,54,6],[23,12,8,5,8]])\n",
    "c4=x7[:,4]\n",
    "c4\n"
   ]
  },
  {
   "cell_type": "markdown",
   "metadata": {},
   "source": [
    "#### 12. Print the 4 corner pixels of the matrix"
   ]
  },
  {
   "cell_type": "code",
   "execution_count": 12,
   "metadata": {},
   "outputs": [
    {
     "data": {
      "text/plain": [
       "array([[ 9, 45],\n",
       "       [23,  8]])"
      ]
     },
     "execution_count": 12,
     "metadata": {},
     "output_type": "execute_result"
    }
   ],
   "source": [
    "# Solution\n",
    "x7[[0,4],:][:,[0,4]]\n",
    "\n"
   ]
  },
  {
   "cell_type": "markdown",
   "metadata": {},
   "source": [
    "#### 13. Create three matrix m1,m2,m3 with the elements grouped in the figure below\n",
    "<img src = \"np_mat2.png\">"
   ]
  },
  {
   "cell_type": "code",
   "execution_count": 13,
   "metadata": {},
   "outputs": [
    {
     "name": "stdout",
     "output_type": "stream",
     "text": [
      "mat1 matrix:  [[50 34]\n",
      " [34 65]]\n",
      "mat2 matrix: [[ 7  8]\n",
      " [23 12]]\n",
      "mat3 matrix: [[ 3 76  3]\n",
      " [ 6 54  6]\n",
      " [ 8  5  8]]\n"
     ]
    }
   ],
   "source": [
    "# Solution \n",
    "x7=np.array([[9,25,50,34,45],[3,34,34,65,2],[5,7,3,76,3],[7,8,6,54,6],[23,12,8,5,8]])\n",
    "mat1=x7[[0,1],:][:,[2,3]]\n",
    "print('mat1 matrix: ',mat1)\n",
    "mat2=x7[[3,4],:][:,[0,1]]\n",
    "print('mat2 matrix:',mat2)\n",
    "mat3=x7[[2,3,4],:][:,[2,3,4]]\n",
    "print('mat3 matrix:',mat3)\n",
    "\n"
   ]
  },
  {
   "cell_type": "markdown",
   "metadata": {},
   "source": [
    "#### 14. Reshape all the three matrix segmented in the above task in to three  1-dimensional vector."
   ]
  },
  {
   "cell_type": "code",
   "execution_count": 14,
   "metadata": {},
   "outputs": [
    {
     "name": "stdout",
     "output_type": "stream",
     "text": [
      "[[50]\n",
      " [34]\n",
      " [34]\n",
      " [65]] [[ 7]\n",
      " [ 8]\n",
      " [23]\n",
      " [12]] [[ 3]\n",
      " [76]\n",
      " [ 3]\n",
      " [ 6]\n",
      " [54]\n",
      " [ 6]\n",
      " [ 8]\n",
      " [ 5]\n",
      " [ 8]]\n"
     ]
    }
   ],
   "source": [
    "# Solution\n",
    "m1=mat1.reshape(-1,1)\n",
    "m2=mat2.reshape(-1,1)\n",
    "m3=mat3.reshape(-1,1)\n",
    "print(m1,m2,m3)\n",
    "\n"
   ]
  },
  {
   "cell_type": "markdown",
   "metadata": {},
   "source": [
    "#### 15. Concatenate the matrix m1 and m2 in both vertical and horizontal direction"
   ]
  },
  {
   "cell_type": "code",
   "execution_count": 15,
   "metadata": {},
   "outputs": [
    {
     "name": "stdout",
     "output_type": "stream",
     "text": [
      "Horizontal concatenation:\n"
     ]
    },
    {
     "data": {
      "text/plain": [
       "array([[50, 34,  7,  8],\n",
       "       [34, 65, 23, 12]])"
      ]
     },
     "execution_count": 15,
     "metadata": {},
     "output_type": "execute_result"
    }
   ],
   "source": [
    "# Solution\n",
    "# Horizontal concatenation\n",
    "print('Horizontal concatenation:')\n",
    "new_m=np.concatenate((mat1,mat2),axis=1)\n",
    "new_m\n",
    "\n",
    "\n"
   ]
  },
  {
   "cell_type": "code",
   "execution_count": 16,
   "metadata": {},
   "outputs": [
    {
     "name": "stdout",
     "output_type": "stream",
     "text": [
      "Vertical concatenation\n"
     ]
    },
    {
     "data": {
      "text/plain": [
       "array([[50, 34],\n",
       "       [34, 65],\n",
       "       [ 7,  8],\n",
       "       [23, 12]])"
      ]
     },
     "execution_count": 16,
     "metadata": {},
     "output_type": "execute_result"
    }
   ],
   "source": [
    "print('Vertical concatenation')\n",
    "new_m1=np.concatenate((mat1,mat2),axis=0)\n",
    "new_m1"
   ]
  },
  {
   "cell_type": "markdown",
   "metadata": {},
   "source": [
    "#### 16. Add, Subtract, multiply, divide the matrixes m1 and m2"
   ]
  },
  {
   "cell_type": "code",
   "execution_count": 17,
   "metadata": {},
   "outputs": [
    {
     "name": "stdout",
     "output_type": "stream",
     "text": [
      "Addition:\n",
      "[[57 42]\n",
      " [57 77]]\n",
      "Subtraction:\n",
      "[[43 26]\n",
      " [11 53]]\n",
      "Multiplication:\n",
      "[[350 272]\n",
      " [782 780]]\n",
      "Division:\n",
      "[[7.14285714 4.25      ]\n",
      " [1.47826087 5.41666667]]\n"
     ]
    }
   ],
   "source": [
    "# Solution\n",
    "\n",
    "print('Addition:')\n",
    "print(mat1+mat2)\n",
    "print('Subtraction:')\n",
    "print(mat1-mat2)\n",
    "print('Multiplication:')\n",
    "print(mat1*mat2)\n",
    "print('Division:')\n",
    "print(mat1/mat2)\n"
   ]
  },
  {
   "cell_type": "markdown",
   "metadata": {},
   "source": [
    "#### 17. Add the m1 with m3 by removing the first row and last column of m3"
   ]
  },
  {
   "cell_type": "code",
   "execution_count": 28,
   "metadata": {},
   "outputs": [
    {
     "name": "stdout",
     "output_type": "stream",
     "text": [
      "[[56 88]\n",
      " [42 70]]\n"
     ]
    }
   ],
   "source": [
    "# Solution\n",
    "m3_del=np.delete(mat3,0,0)\n",
    "delete=np.delete(m3_del,2,1)\n",
    "#print(delete)\n",
    "print(mat1+delete)"
   ]
  },
  {
   "cell_type": "markdown",
   "metadata": {},
   "source": [
    "#### 18. Form the matrix m4 by concatenating (as a new row) the vector [me1, me2] with the matrix m1, where me1 and me2 are the mean values of each column on m1."
   ]
  },
  {
   "cell_type": "code",
   "execution_count": 20,
   "metadata": {},
   "outputs": [
    {
     "data": {
      "text/plain": [
       "array([42. , 49.5, 42. , 49.5])"
      ]
     },
     "execution_count": 20,
     "metadata": {},
     "output_type": "execute_result"
    }
   ],
   "source": [
    "# Solution\n",
    "me1=np.mean(mat1,axis=0)\n",
    "me2=np.mean(mat1,axis=0)\n",
    "m4=np.concatenate((me1,me2),axis=0)\n",
    "m4\n",
    "\n"
   ]
  },
  {
   "cell_type": "markdown",
   "metadata": {},
   "source": [
    "#### 19. Perform the matrix multiplication between m3 and m4"
   ]
  },
  {
   "cell_type": "code",
   "execution_count": 36,
   "metadata": {},
   "outputs": [
    {
     "name": "stdout",
     "output_type": "stream",
     "text": [
      "[[ 126.   148.5  126.   148.5]\n",
      " [3192.  3762.  3192.  3762. ]\n",
      " [ 126.   148.5  126.   148.5]\n",
      " [ 252.   297.   252.   297. ]\n",
      " [2268.  2673.  2268.  2673. ]\n",
      " [ 252.   297.   252.   297. ]\n",
      " [ 336.   396.   336.   396. ]\n",
      " [ 210.   247.5  210.   247.5]\n",
      " [ 336.   396.   336.   396. ]]\n"
     ]
    }
   ],
   "source": [
    "# Solution\n",
    "m3_new=mat3.reshape([-1,1])\n",
    "mat_mul=np.multiply(m3_new,m4)\n",
    "print(mat_mul)\n",
    "\n"
   ]
  },
  {
   "cell_type": "markdown",
   "metadata": {},
   "source": [
    "#### 20. Compute the maximum and minimum value of mean, variance, standard deviation for each row of matrix created in question number 8."
   ]
  },
  {
   "cell_type": "code",
   "execution_count": 57,
   "metadata": {},
   "outputs": [
    {
     "name": "stdout",
     "output_type": "stream",
     "text": [
      "maximum and minimum elements in the matrix\n",
      " Variance and standard deviation of the matrix are:\n"
     ]
    },
    {
     "data": {
      "text/plain": [
       "(array([50, 65, 76, 54, 23]),\n",
       " array([9, 2, 3, 6, 5]),\n",
       " array([214.64, 548.24, 820.16, 357.76,  39.76]),\n",
       " array([14.65059726, 23.41452541, 28.63843571, 18.91454467,  6.30555311]))"
      ]
     },
     "execution_count": 57,
     "metadata": {},
     "output_type": "execute_result"
    }
   ],
   "source": [
    "# Solution\n",
    "ar=np.array([[9,25,50,34,45],[3,34,34,65,2],[5,7,3,76,3],[7,8,6,54,6],[23,12,8,5,8]])\n",
    "ar.shape\n",
    "max1=ar.max(axis=1)\n",
    "min1=ar.min(axis=1)\n",
    "print('maximum and minimum elements in the matrix\\n Variance and standard deviation of the matrix are:')\n",
    "(max1,min1)\n",
    "var1=ar.var(axis=1)\n",
    "std1=ar.std(axis=1)\n",
    "(max1,min1,var1,std1)"
   ]
  },
  {
   "cell_type": "markdown",
   "metadata": {},
   "source": [
    "#### 21. Compute the average and strike rate for each player and sort it decending way (seperately for avg and strike rate)\n",
    "<img src = 'crick1.png'>"
   ]
  },
  {
   "cell_type": "code",
   "execution_count": 40,
   "metadata": {},
   "outputs": [
    {
     "name": "stdout",
     "output_type": "stream",
     "text": [
      "average runs,strike rate\n"
     ]
    },
    {
     "data": {
      "text/plain": [
       "(array([110., 102.,  92.,  78.,  65.,  60.,  56.,  54.,  42.,  32.,  22.,\n",
       "         12.,  12.,  11.,  10.,   8.,   6.,   3.,   2.,   1.]),\n",
       " array([2.07407407, 2.        , 1.42857143, 1.35483871, 1.2       ,\n",
       "        1.1       , 1.09090909, 1.08      , 1.07368421, 0.91089109,\n",
       "        0.83333333, 0.74418605, 0.61111111, 0.5       , 0.45454545,\n",
       "        0.40740741, 0.4       , 0.33333333, 0.25      , 0.14285714]))"
      ]
     },
     "execution_count": 40,
     "metadata": {},
     "output_type": "execute_result"
    }
   ],
   "source": [
    "# Solution \n",
    "run=np.array([[54,60,10,65],[102,2,78,32],[3,110,1,92],[56,6,12,42],[12,8,22,11]]).reshape([-1,1])\n",
    "balls=np.array([[50,42,22,78],[95,8,65,43],[9,100,7,101],[27,3,11,31],[24,20,36,27]]).reshape([-1,1])\n",
    "avg=run.mean(axis=1) #mean of each player\n",
    "tot_run=run.sum(axis=1)  #total runs of each player\n",
    "total_balls=balls.sum(axis=1)   #total no.of balls faced by each player \n",
    "strike_rate=tot_run/total_balls\n",
    "srate=np.sort(strike_rate) [::-1]\n",
    "averg=np.sort(avg) [::-1]\n",
    "print('average runs,strike rate')\n",
    "(averg,srate)\n",
    "\n"
   ]
  },
  {
   "cell_type": "markdown",
   "metadata": {},
   "source": [
    "#### 22. The students mark was recorded in a numpy array: marks = np.array([65,84,47,56,89,98,48,77,80,39]).  Cutoff for pass is 50 marks. Write the logic to print the number of students passed and failed. "
   ]
  },
  {
   "cell_type": "code",
   "execution_count": 44,
   "metadata": {},
   "outputs": [
    {
     "name": "stdout",
     "output_type": "stream",
     "text": [
      "No.of.Pass: 7 No.of.Fail: 3\n"
     ]
    }
   ],
   "source": [
    "# Solution\n",
    "marks = np.array([65,84,47,56,89,98,48,77,80,39])\n",
    "Pass=(marks>50).sum()\n",
    "Fail=(marks<50).sum()\n",
    "print('No.of.Pass:',Pass,'No.of.Fail:',Fail)\n",
    "\n"
   ]
  },
  {
   "cell_type": "markdown",
   "metadata": {},
   "source": [
    "#### 23. The class incharge decided to give a mercy mark of 5 for those who scored between 45 and 49. Also the bonus of 5 marks awarded to the students who scored more than 80. Print all the student marks and compute the increase in the pass percentage of class. Any score more than 100 must be recorded as only 100."
   ]
  },
  {
   "cell_type": "code",
   "execution_count": 55,
   "metadata": {},
   "outputs": [
    {
     "name": "stdout",
     "output_type": "stream",
     "text": [
      "mercy mark of students between 45,49\n",
      "[57 58]\n",
      "Bonus marks of students with >80\n"
     ]
    },
    {
     "data": {
      "text/plain": [
       "array([ 89,  94, 100])"
      ]
     },
     "execution_count": 55,
     "metadata": {},
     "output_type": "execute_result"
    }
   ],
   "source": [
    "# Solution\n",
    "n1=marks[(marks>45) &(marks <49)]+10\n",
    "print('mercy mark of students between 45,49')\n",
    "print(n1)\n",
    "marks1=marks[marks>80]+5\n",
    "ind2=np.where(marks1>100)\n",
    "marks1[ind2]=100\n",
    "print('Bonus marks of students with >80')\n",
    "marks1\n",
    "\n"
   ]
  },
  {
   "cell_type": "markdown",
   "metadata": {},
   "source": [
    "#### 24. Print the time taken for performing the following operation using list and numpy array\n",
    "####       (x(i)^2 +8) / y(i),   where x and y are real integers from 1 to 60000"
   ]
  },
  {
   "cell_type": "code",
   "execution_count": 56,
   "metadata": {},
   "outputs": [
    {
     "name": "stdout",
     "output_type": "stream",
     "text": [
      "31.985759735107422 ms\n"
     ]
    }
   ],
   "source": [
    "# Solution\n",
    "import time\n",
    "list3=[]\n",
    "st=time.time()\n",
    "l1=list(range(1,60001))\n",
    "l2=list(range(1,60001))\n",
    "for i,j in zip(l1,l2):\n",
    "        list3.append((i**2+8)/j)\n",
    "print((time.time()-st)*1000,'ms')\n",
    "\n",
    "\n",
    "\n"
   ]
  },
  {
   "cell_type": "markdown",
   "metadata": {},
   "source": [
    "#### 25. Create a Github account and upload your solution with the short write-up on Numpy"
   ]
  },
  {
   "cell_type": "code",
   "execution_count": null,
   "metadata": {},
   "outputs": [],
   "source": [
    "# Solution\n",
    "https://github.com/Kailash998/Numpy.git\n",
    "\n",
    "\n"
   ]
  }
 ],
 "metadata": {
  "kernelspec": {
   "display_name": "Python 3",
   "language": "python",
   "name": "python3"
  },
  "language_info": {
   "codemirror_mode": {
    "name": "ipython",
    "version": 3
   },
   "file_extension": ".py",
   "mimetype": "text/x-python",
   "name": "python",
   "nbconvert_exporter": "python",
   "pygments_lexer": "ipython3",
   "version": "3.8.8"
  }
 },
 "nbformat": 4,
 "nbformat_minor": 2
}
